{
  "cells": [
    {
      "cell_type": "markdown",
      "source": [
        "#Profile Data Diri\n",
        "- Nama: Muhammad Sayidul Ikhsan Ulya\n",
        "- Email: xazkiel@gmail.com\n",
        "- Domisili: Surabaya\n",
        "\n",
        "[Profil Dicoding saya](https://www.dicoding.com/users/revolver22/academies)\n",
        "\n",
        "Salam kenal 👐 💖"
      ],
      "metadata": {
        "id": "r9_s48HLdpoU"
      }
    },
    {
      "cell_type": "code",
      "execution_count": null,
      "metadata": {
        "id": "cXYsHen8__-r"
      },
      "outputs": [],
      "source": [
        "import os\n",
        "dir_exist = os.path.exists('rockpaperscissors')\n",
        "if not dir_exist:\n",
        "  !wget https://github.com/dicodingacademy/assets/releases/download/release/rockpaperscissors.zip\n",
        "  !unzip rockpaperscissors.zip"
      ]
    },
    {
      "cell_type": "code",
      "execution_count": null,
      "metadata": {
        "id": "78vGqkrvYh3S"
      },
      "outputs": [],
      "source": [
        "import tensorflow as tf\n",
        "import matplotlib.pyplot as plt\n",
        "import numpy as np\n",
        "from sklearn.model_selection import train_test_split\n",
        "from tensorflow.keras import layers\n",
        "from tensorflow.keras.preprocessing.image import ImageDataGenerator\n",
        "from google.colab import files"
      ]
    },
    {
      "cell_type": "code",
      "execution_count": null,
      "metadata": {
        "id": "yCabfDcVErOd"
      },
      "outputs": [],
      "source": [
        "root_dir = 'rockpaperscissors/'\n",
        "rps_dir = os.path.join(root_dir,'rps-cv-images/')\n",
        "\n",
        "train_dir = rps_dir\n",
        "test_dir = rps_dir"
      ]
    },
    {
      "cell_type": "code",
      "execution_count": null,
      "metadata": {
        "id": "AnUXqHjyB9kG"
      },
      "outputs": [],
      "source": [
        "training_from_gen = ImageDataGenerator(\n",
        "    rescale=1./255,\n",
        "    rotation_range=45,\n",
        "    height_shift_range=2,\n",
        "    horizontal_flip=True,\n",
        "    shear_range=.2,\n",
        "    fill_mode = 'nearest',\n",
        "    validation_split=.4,\n",
        ")\n",
        "validation_from_gen = ImageDataGenerator(\n",
        "    rescale =1./255,\n",
        "    validation_split=.4\n",
        ")"
      ]
    },
    {
      "cell_type": "code",
      "source": [
        "PIXEL = 64\n",
        "FULLCON_NEURON1 = 64\n",
        "FULLCON_NEURON2 = 32\n",
        "FULLCON_NEURON3 = 64\n",
        "DROPOUT_NUM = .2\n",
        "KERNEL_CONV = (3,3)\n",
        "IMAGE_SIZE = (PIXEL,PIXEL)\n",
        "INPUT_SIZE = (PIXEL,PIXEL,1)"
      ],
      "metadata": {
        "id": "5jNdhjdMNKQj"
      },
      "execution_count": null,
      "outputs": []
    },
    {
      "cell_type": "code",
      "execution_count": null,
      "metadata": {
        "colab": {
          "base_uri": "https://localhost:8080/"
        },
        "id": "gzs1XW7WHlEI",
        "outputId": "145a74ed-ad28-4188-ff95-549cf1808c80"
      },
      "outputs": [
        {
          "output_type": "stream",
          "name": "stdout",
          "text": [
            "Found 1314 images belonging to 3 classes.\n",
            "Found 874 images belonging to 3 classes.\n"
          ]
        }
      ],
      "source": [
        "train_imgs = training_from_gen.flow_from_directory(\n",
        "    train_dir,\n",
        "    subset=\"training\",\n",
        "    target_size=IMAGE_SIZE,\n",
        "    batch_size=8,\n",
        "    color_mode='grayscale',\n",
        "    save_format='png',\n",
        "    class_mode='categorical',\n",
        "    # shuffle=True,\n",
        "\n",
        ")\n",
        "test_imgs = validation_from_gen.flow_from_directory(\n",
        "    test_dir,\n",
        "    subset=\"validation\",\n",
        "    target_size=IMAGE_SIZE,\n",
        "    batch_size=8,\n",
        "    color_mode='grayscale',\n",
        "    save_format='png',\n",
        "    class_mode='categorical',\n",
        "    # shuffle=True,\n",
        ")\n",
        "\n",
        "\n",
        "# train_ds.class_names"
      ]
    },
    {
      "cell_type": "code",
      "execution_count": null,
      "metadata": {
        "id": "qJBKsu1kHKRO"
      },
      "outputs": [],
      "source": [
        "model = tf.keras.models.Sequential()\n",
        "model.add(layers.Conv2D(32, KERNEL_CONV, activation='relu', input_shape=INPUT_SIZE))\n",
        "model.add(layers.MaxPooling2D((2, 2)))\n",
        "model.add(layers.Conv2D(64, KERNEL_CONV, activation='relu'))\n",
        "model.add(layers.MaxPooling2D((2, 2)))\n",
        "model.add(layers.Conv2D(128, KERNEL_CONV, activation='relu'))\n",
        "model.add(layers.MaxPooling2D((2, 2)))\n",
        "\n",
        "model.add(layers.Conv2D(64, KERNEL_CONV, activation='relu'))\n",
        "model.add(layers.MaxPooling2D((2, 2)))\n",
        "model.add(layers.Dropout(DROPOUT_NUM))\n",
        "\n",
        "model.add(layers.Flatten())\n",
        "model.add(layers.Dense(FULLCON_NEURON1, activation='relu'))\n",
        "\n",
        "# model.add(layers.Dense(FULLCON_NEURON2, activation='relu'))\n",
        "\n",
        "model.add(layers.Dense(FULLCON_NEURON3, activation='relu'))\n",
        "model.add(layers.Dropout(DROPOUT_NUM))\n",
        "model.add(layers.Dense(3, activation='softmax'))"
      ]
    },
    {
      "cell_type": "code",
      "execution_count": null,
      "metadata": {
        "id": "jfLK2RxZKG9h"
      },
      "outputs": [],
      "source": [
        "model.compile(metrics=['acc'],loss='categorical_crossentropy',optimizer=tf.keras.optimizers.Adam(learning_rate=.0012))"
      ]
    },
    {
      "cell_type": "code",
      "source": [
        "model.summary()"
      ],
      "metadata": {
        "colab": {
          "base_uri": "https://localhost:8080/"
        },
        "id": "qS28EZgvOQVE",
        "outputId": "298c29a2-24d4-446a-b30e-8dde297c5099"
      },
      "execution_count": null,
      "outputs": [
        {
          "output_type": "stream",
          "name": "stdout",
          "text": [
            "Model: \"sequential_6\"\n",
            "_________________________________________________________________\n",
            " Layer (type)                Output Shape              Param #   \n",
            "=================================================================\n",
            " conv2d_24 (Conv2D)          (None, 62, 62, 32)        320       \n",
            "                                                                 \n",
            " max_pooling2d_24 (MaxPooli  (None, 31, 31, 32)        0         \n",
            " ng2D)                                                           \n",
            "                                                                 \n",
            " conv2d_25 (Conv2D)          (None, 29, 29, 64)        18496     \n",
            "                                                                 \n",
            " max_pooling2d_25 (MaxPooli  (None, 14, 14, 64)        0         \n",
            " ng2D)                                                           \n",
            "                                                                 \n",
            " conv2d_26 (Conv2D)          (None, 12, 12, 128)       73856     \n",
            "                                                                 \n",
            " max_pooling2d_26 (MaxPooli  (None, 6, 6, 128)         0         \n",
            " ng2D)                                                           \n",
            "                                                                 \n",
            " conv2d_27 (Conv2D)          (None, 4, 4, 64)          73792     \n",
            "                                                                 \n",
            " max_pooling2d_27 (MaxPooli  (None, 2, 2, 64)          0         \n",
            " ng2D)                                                           \n",
            "                                                                 \n",
            " dropout_25 (Dropout)        (None, 2, 2, 64)          0         \n",
            "                                                                 \n",
            " flatten_6 (Flatten)         (None, 256)               0         \n",
            "                                                                 \n",
            " dense_21 (Dense)            (None, 64)                16448     \n",
            "                                                                 \n",
            " dense_22 (Dense)            (None, 64)                4160      \n",
            "                                                                 \n",
            " dropout_26 (Dropout)        (None, 64)                0         \n",
            "                                                                 \n",
            " dense_23 (Dense)            (None, 3)                 195       \n",
            "                                                                 \n",
            "=================================================================\n",
            "Total params: 187267 (731.51 KB)\n",
            "Trainable params: 187267 (731.51 KB)\n",
            "Non-trainable params: 0 (0.00 Byte)\n",
            "_________________________________________________________________\n"
          ]
        }
      ]
    },
    {
      "cell_type": "code",
      "execution_count": null,
      "metadata": {
        "colab": {
          "base_uri": "https://localhost:8080/"
        },
        "id": "hu8L2MPmKXFA",
        "outputId": "f89f8fd7-5694-4e67-9343-c17bb3f0999e"
      },
      "outputs": [
        {
          "output_type": "stream",
          "name": "stdout",
          "text": [
            "Epoch 1/10\n",
            "165/165 [==============================] - 22s 124ms/step - loss: 1.0680 - acc: 0.4011 - val_loss: 0.8522 - val_acc: 0.6213\n",
            "Epoch 2/10\n",
            "165/165 [==============================] - 21s 129ms/step - loss: 0.8155 - acc: 0.6294 - val_loss: 0.7215 - val_acc: 0.6682\n",
            "Epoch 3/10\n",
            "165/165 [==============================] - 19s 113ms/step - loss: 0.6048 - acc: 0.7390 - val_loss: 0.4567 - val_acc: 0.8181\n",
            "Epoch 4/10\n",
            "165/165 [==============================] - 18s 112ms/step - loss: 0.4221 - acc: 0.8531 - val_loss: 0.3104 - val_acc: 0.8902\n",
            "Epoch 5/10\n",
            "165/165 [==============================] - 18s 108ms/step - loss: 0.2669 - acc: 0.9216 - val_loss: 0.8793 - val_acc: 0.7094\n",
            "Epoch 6/10\n",
            "165/165 [==============================] - 23s 137ms/step - loss: 0.2980 - acc: 0.8881 - val_loss: 0.2802 - val_acc: 0.9096\n",
            "Epoch 7/10\n",
            "165/165 [==============================] - 19s 114ms/step - loss: 0.2180 - acc: 0.9307 - val_loss: 0.1389 - val_acc: 0.9611\n",
            "Epoch 8/10\n",
            "165/165 [==============================] - 18s 106ms/step - loss: 0.1809 - acc: 0.9406 - val_loss: 0.0927 - val_acc: 0.9714\n",
            "Epoch 9/10\n",
            "165/165 [==============================] - 18s 106ms/step - loss: 0.1361 - acc: 0.9460 - val_loss: 0.1546 - val_acc: 0.9508\n",
            "Epoch 10/10\n",
            "165/165 [==============================] - 17s 103ms/step - loss: 0.1320 - acc: 0.9581 - val_loss: 0.1890 - val_acc: 0.9394\n"
          ]
        }
      ],
      "source": [
        "\n",
        "history = model.fit(\n",
        "    train_imgs,\n",
        "    epochs=10,\n",
        "    validation_data=test_imgs,\n",
        ")"
      ]
    },
    {
      "cell_type": "code",
      "source": [
        "loss = history.history['loss']\n",
        "val_loss = history.history['val_loss']\n",
        "\n",
        "accuracy = history.history['acc']\n",
        "val_accuracy = history.history['val_acc']\n",
        "\n",
        "plt.figure(figsize=(8, 3))\n",
        "\n",
        "plt.subplot(1, 2, 1)\n",
        "plt.title('accuracy')\n",
        "plt.xlabel('epoch')\n",
        "plt.ylabel('accuracy')\n",
        "plt.plot(accuracy, label='Training')\n",
        "plt.plot(val_accuracy, label='Test', linestyle='--')\n",
        "plt.legend()\n",
        "plt.grid(linestyle='--')\n",
        "\n",
        "plt.subplot(1, 2, 2)\n",
        "plt.title('loss')\n",
        "plt.xlabel('epoch')\n",
        "plt.ylabel('loss')\n",
        "plt.plot(loss, label='Training')\n",
        "plt.plot(val_loss, label='Test', linestyle='--')\n",
        "plt.legend()\n",
        "plt.grid(linestyle='--')\n",
        "\n",
        "plt.show()"
      ],
      "metadata": {
        "colab": {
          "base_uri": "https://localhost:8080/",
          "height": 333
        },
        "id": "6XMWlFxfaT10",
        "outputId": "71a68bac-ffb8-46b4-ca3f-2043edeaf72e"
      },
      "execution_count": null,
      "outputs": [
        {
          "output_type": "display_data",
          "data": {
            "text/plain": [
              "<Figure size 800x300 with 2 Axes>"
            ],
            "image/png": "[encoded data removed]"
          },
          "metadata": {}
        }
      ]
    },
    {
      "cell_type": "code",
      "source": [
        "def get_label(_label):\n",
        "  labels = list(train_imgs.class_indices.keys())\n",
        "  return (labels[_label],_label)"
      ],
      "metadata": {
        "id": "6WQnHK-ZqYSF"
      },
      "execution_count": null,
      "outputs": []
    },
    {
      "cell_type": "code",
      "execution_count": null,
      "metadata": {
        "id": "9yp1kej1KyPV",
        "colab": {
          "base_uri": "https://localhost:8080/",
          "height": 543
        },
        "outputId": "75db1fbe-1008-44e6-b10e-9fda07f1ea6a"
      },
      "outputs": [
        {
          "output_type": "display_data",
          "data": {
            "text/plain": [
              "<IPython.core.display.HTML object>"
            ],
            "text/html": [
              "\n",
              "     <input type=\"file\" id=\"files-2d683163-9a4d-4c88-a241-9224ef833ba5\" name=\"files[]\" multiple disabled\n",
              "        style=\"border:none\" />\n",
              "     <output id=\"result-2d683163-9a4d-4c88-a241-9224ef833ba5\">\n",
              "      Upload widget is only available when the cell has been executed in the\n",
              "      current browser session. Please rerun this cell to enable.\n",
              "      </output>\n",
              "      <script>// Copyright 2017 Google LLC\n",
              "//\n",
              "// Licensed under the Apache License, Version 2.0 (the \"License\");\n",
              "// you may not use this file except in compliance with the License.\n",
              "// You may obtain a copy of the License at\n",
              "//\n",
              "//      http://www.apache.org/licenses/LICENSE-2.0\n",
              "//\n",
              "// Unless required by applicable law or agreed to in writing, software\n",
              "// distributed under the License is distributed on an \"AS IS\" BASIS,\n",
              "// WITHOUT WARRANTIES OR CONDITIONS OF ANY KIND, either express or implied.\n",
              "// See the License for the specific language governing permissions and\n",
              "// limitations under the License.\n",
              "\n",
              "/**\n",
              " * @fileoverview Helpers for google.colab Python module.\n",
              " */\n",
              "(function(scope) {\n",
              "function span(text, styleAttributes = {}) {\n",
              "  const element = document.createElement('span');\n",
              "  element.textContent = text;\n",
              "  for (const key of Object.keys(styleAttributes)) {\n",
              "    element.style[key] = styleAttributes[key];\n",
              "  }\n",
              "  return element;\n",
              "}\n",
              "\n",
              "// Max number of bytes which will be uploaded at a time.\n",
              "const MAX_PAYLOAD_SIZE = 100 * 1024;\n",
              "\n",
              "function _uploadFiles(inputId, outputId) {\n",
              "  const steps = uploadFilesStep(inputId, outputId);\n",
              "  const outputElement = document.getElementById(outputId);\n",
              "  // Cache steps on the outputElement to make it available for the next call\n",
              "  // to uploadFilesContinue from Python.\n",
              "  outputElement.steps = steps;\n",
              "\n",
              "  return _uploadFilesContinue(outputId);\n",
              "}\n",
              "\n",
              "// This is roughly an async generator (not supported in the browser yet),\n",
              "// where there are multiple asynchronous steps and the Python side is going\n",
              "// to poll for completion of each step.\n",
              "// This uses a Promise to block the python side on completion of each step,\n",
              "// then passes the result of the previous step as the input to the next step.\n",
              "function _uploadFilesContinue(outputId) {\n",
              "  const outputElement = document.getElementById(outputId);\n",
              "  const steps = outputElement.steps;\n",
              "\n",
              "  const next = steps.next(outputElement.lastPromiseValue);\n",
              "  return Promise.resolve(next.value.promise).then((value) => {\n",
              "    // Cache the last promise value to make it available to the next\n",
              "    // step of the generator.\n",
              "    outputElement.lastPromiseValue = value;\n",
              "    return next.value.response;\n",
              "  });\n",
              "}\n",
              "\n",
              "/**\n",
              " * Generator function which is called between each async step of the upload\n",
              " * process.\n",
              " * @param {string} inputId Element ID of the input file picker element.\n",
              " * @param {string} outputId Element ID of the output display.\n",
              " * @return {!Iterable<!Object>} Iterable of next steps.\n",
              " */\n",
              "function* uploadFilesStep(inputId, outputId) {\n",
              "  const inputElement = document.getElementById(inputId);\n",
              "  inputElement.disabled = false;\n",
              "\n",
              "  const outputElement = document.getElementById(outputId);\n",
              "  outputElement.innerHTML = '';\n",
              "\n",
              "  const pickedPromise = new Promise((resolve) => {\n",
              "    inputElement.addEventListener('change', (e) => {\n",
              "      resolve(e.target.files);\n",
              "    });\n",
              "  });\n",
              "\n",
              "  const cancel = document.createElement('button');\n",
              "  inputElement.parentElement.appendChild(cancel);\n",
              "  cancel.textContent = 'Cancel upload';\n",
              "  const cancelPromise = new Promise((resolve) => {\n",
              "    cancel.onclick = () => {\n",
              "      resolve(null);\n",
              "    };\n",
              "  });\n",
              "\n",
              "  // Wait for the user to pick the files.\n",
              "  const files = yield {\n",
              "    promise: Promise.race([pickedPromise, cancelPromise]),\n",
              "    response: {\n",
              "      action: 'starting',\n",
              "    }\n",
              "  };\n",
              "\n",
              "  cancel.remove();\n",
              "\n",
              "  // Disable the input element since further picks are not allowed.\n",
              "  inputElement.disabled = true;\n",
              "\n",
              "  if (!files) {\n",
              "    return {\n",
              "      response: {\n",
              "        action: 'complete',\n",
              "      }\n",
              "    };\n",
              "  }\n",
              "\n",
              "  for (const file of files) {\n",
              "    const li = document.createElement('li');\n",
              "    li.append(span(file.name, {fontWeight: 'bold'}));\n",
              "    li.append(span(\n",
              "        `(${file.type || 'n/a'}) - ${file.size} bytes, ` +\n",
              "        `last modified: ${\n",
              "            file.lastModifiedDate ? file.lastModifiedDate.toLocaleDateString() :\n",
              "                                    'n/a'} - `));\n",
              "    const percent = span('0% done');\n",
              "    li.appendChild(percent);\n",
              "\n",
              "    outputElement.appendChild(li);\n",
              "\n",
              "    const fileDataPromise = new Promise((resolve) => {\n",
              "      const reader = new FileReader();\n",
              "      reader.onload = (e) => {\n",
              "        resolve(e.target.result);\n",
              "      };\n",
              "      reader.readAsArrayBuffer(file);\n",
              "    });\n",
              "    // Wait for the data to be ready.\n",
              "    let fileData = yield {\n",
              "      promise: fileDataPromise,\n",
              "      response: {\n",
              "        action: 'continue',\n",
              "      }\n",
              "    };\n",
              "\n",
              "    // Use a chunked sending to avoid message size limits. See b/62115660.\n",
              "    let position = 0;\n",
              "    do {\n",
              "      const length = Math.min(fileData.byteLength - position, MAX_PAYLOAD_SIZE);\n",
              "      const chunk = new Uint8Array(fileData, position, length);\n",
              "      position += length;\n",
              "\n",
              "      const base64 = btoa(String.fromCharCode.apply(null, chunk));\n",
              "      yield {\n",
              "        response: {\n",
              "          action: 'append',\n",
              "          file: file.name,\n",
              "          data: base64,\n",
              "        },\n",
              "      };\n",
              "\n",
              "      let percentDone = fileData.byteLength === 0 ?\n",
              "          100 :\n",
              "          Math.round((position / fileData.byteLength) * 100);\n",
              "      percent.textContent = `${percentDone}% done`;\n",
              "\n",
              "    } while (position < fileData.byteLength);\n",
              "  }\n",
              "\n",
              "  // All done.\n",
              "  yield {\n",
              "    response: {\n",
              "      action: 'complete',\n",
              "    }\n",
              "  };\n",
              "}\n",
              "\n",
              "scope.google = scope.google || {};\n",
              "scope.google.colab = scope.google.colab || {};\n",
              "scope.google.colab._files = {\n",
              "  _uploadFiles,\n",
              "  _uploadFilesContinue,\n",
              "};\n",
              "})(self);\n",
              "</script> "
            ]
          },
          "metadata": {}
        },
        {
          "output_type": "stream",
          "name": "stdout",
          "text": [
            "Saving paper-rps.png to paper-rps (4).png\n",
            "1/1 [==============================] - 0s 22ms/step\n",
            "{'paper': 0, 'rock': 1, 'scissors': 2}\n",
            "('paper', 0)\n"
          ]
        },
        {
          "output_type": "display_data",
          "data": {
            "text/plain": [
              "<Figure size 640x480 with 1 Axes>"
            ],
            "image/png": "[encoded data removed]"
          },
          "metadata": {}
        }
      ],
      "source": [
        "uploaded = files.upload()\n",
        "\n",
        "image = ''\n",
        "\n",
        "for fn in uploaded.keys():\n",
        "  path = fn\n",
        "  img_inp = tf.keras.utils.load_img(path,target_size=IMAGE_SIZE,color_mode='grayscale')\n",
        "  image = tf.keras.utils.img_to_array(img_inp)/255\n",
        "  image = np.expand_dims(image, axis=0)\n",
        "\n",
        "plt.imshow(image[0])\n",
        "classes = model.predict(image, batch_size=10)\n",
        "print(train_imgs.class_indices)\n",
        "classes = get_label(np.argmax(classes))\n",
        "print(classes)"
      ]
    },
    {
      "cell_type": "code",
      "source": [
        "img_inp = tf.keras.utils.load_img('scissorhand (1).jpeg',target_size=IMAGE_SIZE,color_mode='grayscale')\n",
        "img_arr = tf.keras.utils.img_to_array(img_inp)/255\n",
        "plt.imshow(img_arr)\n",
        "img_arr = np.expand_dims(img_arr, axis=0)\n",
        "classes = model.predict(img_arr)\n",
        "print(train_imgs.class_indices)\n",
        "classes = get_label(np.argmax(classes))\n",
        "print(classes)"
      ],
      "metadata": {
        "colab": {
          "base_uri": "https://localhost:8080/",
          "height": 487
        },
        "id": "0Ihc22g6hXKh",
        "outputId": "f657c029-ca89-4b7f-ff61-cc9115748538"
      },
      "execution_count": null,
      "outputs": [
        {
          "output_type": "stream",
          "name": "stdout",
          "text": [
            "1/1 [==============================] - 0s 79ms/step\n",
            "{'paper': 0, 'rock': 1, 'scissors': 2}\n",
            "('scissors', 2)\n"
          ]
        },
        {
          "output_type": "display_data",
          "data": {
            "text/plain": [
              "<Figure size 640x480 with 1 Axes>"
            ],
            "image/png": "[encoded data removed]"
          },
          "metadata": {}
        }
      ]
    }
  ],
  "metadata": {
    "colab": {
      "provenance": []
    },
    "kernelspec": {
      "display_name": "Python 3",
      "name": "python3"
    },
    "language_info": {
      "name": "python"
    }
  },
  "nbformat": 4,
  "nbformat_minor": 0
}